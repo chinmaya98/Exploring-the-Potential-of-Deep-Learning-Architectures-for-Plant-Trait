{
 "cells": [
  {
   "cell_type": "code",
   "execution_count": 1,
   "metadata": {},
   "outputs": [],
   "source": [
    "import pandas as pd\n",
    "import numpy as np"
   ]
  },
  {
   "cell_type": "code",
   "execution_count": 2,
   "metadata": {},
   "outputs": [],
   "source": [
    "train_df = pd.read_csv(\"data/planttraits2024/train.csv\")"
   ]
  },
  {
   "cell_type": "code",
   "execution_count": 8,
   "metadata": {},
   "outputs": [
    {
     "data": {
      "text/plain": [
       "Index(['id', 'WORLDCLIM_BIO1_annual_mean_temperature',\n",
       "       'WORLDCLIM_BIO12_annual_precipitation',\n",
       "       'WORLDCLIM_BIO13.BIO14_delta_precipitation_of_wettest_and_dryest_month',\n",
       "       'WORLDCLIM_BIO15_precipitation_seasonality',\n",
       "       'WORLDCLIM_BIO4_temperature_seasonality',\n",
       "       'WORLDCLIM_BIO7_temperature_annual_range',\n",
       "       'SOIL_bdod_0.5cm_mean_0.01_deg', 'SOIL_bdod_100.200cm_mean_0.01_deg',\n",
       "       'SOIL_bdod_15.30cm_mean_0.01_deg',\n",
       "       ...\n",
       "       'X18_mean', 'X26_mean', 'X50_mean', 'X3112_mean', 'X4_sd', 'X11_sd',\n",
       "       'X18_sd', 'X26_sd', 'X50_sd', 'X3112_sd'],\n",
       "      dtype='object', length=176)"
      ]
     },
     "execution_count": 8,
     "metadata": {},
     "output_type": "execute_result"
    }
   ],
   "source": [
    "train_df.columns"
   ]
  },
  {
   "cell_type": "code",
   "execution_count": 9,
   "metadata": {},
   "outputs": [],
   "source": [
    "target_classes = ['X4_mean', 'X11_mean', 'X18_mean', 'X26_mean', 'X50_mean', 'X3112_mean']"
   ]
  },
  {
   "cell_type": "code",
   "execution_count": 10,
   "metadata": {},
   "outputs": [
    {
     "data": {
      "text/html": [
       "<div>\n",
       "<style scoped>\n",
       "    .dataframe tbody tr th:only-of-type {\n",
       "        vertical-align: middle;\n",
       "    }\n",
       "\n",
       "    .dataframe tbody tr th {\n",
       "        vertical-align: top;\n",
       "    }\n",
       "\n",
       "    .dataframe thead th {\n",
       "        text-align: right;\n",
       "    }\n",
       "</style>\n",
       "<table border=\"1\" class=\"dataframe\">\n",
       "  <thead>\n",
       "    <tr style=\"text-align: right;\">\n",
       "      <th></th>\n",
       "      <th>X4_mean</th>\n",
       "      <th>X11_mean</th>\n",
       "      <th>X18_mean</th>\n",
       "      <th>X26_mean</th>\n",
       "      <th>X50_mean</th>\n",
       "      <th>X3112_mean</th>\n",
       "    </tr>\n",
       "  </thead>\n",
       "  <tbody>\n",
       "    <tr>\n",
       "      <th>0</th>\n",
       "      <td>0.401753</td>\n",
       "      <td>11.758108</td>\n",
       "      <td>0.117484</td>\n",
       "      <td>1.243779</td>\n",
       "      <td>1.849375</td>\n",
       "      <td>50.216034</td>\n",
       "    </tr>\n",
       "    <tr>\n",
       "      <th>1</th>\n",
       "      <td>0.480334</td>\n",
       "      <td>15.748846</td>\n",
       "      <td>0.389315</td>\n",
       "      <td>0.642940</td>\n",
       "      <td>1.353468</td>\n",
       "      <td>574.098472</td>\n",
       "    </tr>\n",
       "    <tr>\n",
       "      <th>2</th>\n",
       "      <td>0.796917</td>\n",
       "      <td>5.291251</td>\n",
       "      <td>8.552908</td>\n",
       "      <td>0.395241</td>\n",
       "      <td>2.343153</td>\n",
       "      <td>1130.096731</td>\n",
       "    </tr>\n",
       "    <tr>\n",
       "      <th>3</th>\n",
       "      <td>0.525236</td>\n",
       "      <td>9.568305</td>\n",
       "      <td>1.083629</td>\n",
       "      <td>0.154200</td>\n",
       "      <td>1.155308</td>\n",
       "      <td>1042.686546</td>\n",
       "    </tr>\n",
       "    <tr>\n",
       "      <th>4</th>\n",
       "      <td>0.411821</td>\n",
       "      <td>14.528877</td>\n",
       "      <td>0.657585</td>\n",
       "      <td>10.919966</td>\n",
       "      <td>2.246226</td>\n",
       "      <td>2386.467180</td>\n",
       "    </tr>\n",
       "    <tr>\n",
       "      <th>...</th>\n",
       "      <td>...</td>\n",
       "      <td>...</td>\n",
       "      <td>...</td>\n",
       "      <td>...</td>\n",
       "      <td>...</td>\n",
       "      <td>...</td>\n",
       "    </tr>\n",
       "    <tr>\n",
       "      <th>55484</th>\n",
       "      <td>0.337243</td>\n",
       "      <td>11.572778</td>\n",
       "      <td>0.233690</td>\n",
       "      <td>1.783193</td>\n",
       "      <td>1.608341</td>\n",
       "      <td>969.547831</td>\n",
       "    </tr>\n",
       "    <tr>\n",
       "      <th>55485</th>\n",
       "      <td>0.424371</td>\n",
       "      <td>6.114448</td>\n",
       "      <td>1.017099</td>\n",
       "      <td>12.713048</td>\n",
       "      <td>2.418300</td>\n",
       "      <td>1630.015480</td>\n",
       "    </tr>\n",
       "    <tr>\n",
       "      <th>55486</th>\n",
       "      <td>0.639659</td>\n",
       "      <td>5.549596</td>\n",
       "      <td>2.717395</td>\n",
       "      <td>10.206478</td>\n",
       "      <td>2.722599</td>\n",
       "      <td>602.229880</td>\n",
       "    </tr>\n",
       "    <tr>\n",
       "      <th>55487</th>\n",
       "      <td>0.774642</td>\n",
       "      <td>7.024218</td>\n",
       "      <td>4.429659</td>\n",
       "      <td>9.372170</td>\n",
       "      <td>3.251739</td>\n",
       "      <td>244.387170</td>\n",
       "    </tr>\n",
       "    <tr>\n",
       "      <th>55488</th>\n",
       "      <td>0.551888</td>\n",
       "      <td>13.169623</td>\n",
       "      <td>5.827227</td>\n",
       "      <td>154.773325</td>\n",
       "      <td>1.523978</td>\n",
       "      <td>3740.065672</td>\n",
       "    </tr>\n",
       "  </tbody>\n",
       "</table>\n",
       "<p>55489 rows × 6 columns</p>\n",
       "</div>"
      ],
      "text/plain": [
       "        X4_mean   X11_mean  X18_mean    X26_mean  X50_mean   X3112_mean\n",
       "0      0.401753  11.758108  0.117484    1.243779  1.849375    50.216034\n",
       "1      0.480334  15.748846  0.389315    0.642940  1.353468   574.098472\n",
       "2      0.796917   5.291251  8.552908    0.395241  2.343153  1130.096731\n",
       "3      0.525236   9.568305  1.083629    0.154200  1.155308  1042.686546\n",
       "4      0.411821  14.528877  0.657585   10.919966  2.246226  2386.467180\n",
       "...         ...        ...       ...         ...       ...          ...\n",
       "55484  0.337243  11.572778  0.233690    1.783193  1.608341   969.547831\n",
       "55485  0.424371   6.114448  1.017099   12.713048  2.418300  1630.015480\n",
       "55486  0.639659   5.549596  2.717395   10.206478  2.722599   602.229880\n",
       "55487  0.774642   7.024218  4.429659    9.372170  3.251739   244.387170\n",
       "55488  0.551888  13.169623  5.827227  154.773325  1.523978  3740.065672\n",
       "\n",
       "[55489 rows x 6 columns]"
      ]
     },
     "execution_count": 10,
     "metadata": {},
     "output_type": "execute_result"
    }
   ],
   "source": [
    "train_df[target_classes]"
   ]
  },
  {
   "cell_type": "code",
   "execution_count": null,
   "metadata": {},
   "outputs": [],
   "source": []
  }
 ],
 "metadata": {
  "kernelspec": {
   "display_name": "255",
   "language": "python",
   "name": "python3"
  },
  "language_info": {
   "codemirror_mode": {
    "name": "ipython",
    "version": 3
   },
   "file_extension": ".py",
   "mimetype": "text/x-python",
   "name": "python",
   "nbconvert_exporter": "python",
   "pygments_lexer": "ipython3",
   "version": "3.11.5"
  }
 },
 "nbformat": 4,
 "nbformat_minor": 2
}
